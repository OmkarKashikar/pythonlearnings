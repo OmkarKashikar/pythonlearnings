{
 "cells": [
  {
   "cell_type": "code",
   "execution_count": 1,
   "id": "7a37b8b6",
   "metadata": {},
   "outputs": [],
   "source": [
    "def SI(p,n,r):\n",
    "    simple_interest = (p*n*r)/100\n",
    "    print(simple_interest)"
   ]
  },
  {
   "cell_type": "code",
   "execution_count": 2,
   "id": "fb658e4d",
   "metadata": {},
   "outputs": [
    {
     "name": "stdout",
     "output_type": "stream",
     "text": [
      "4349.999999999999\n"
     ]
    }
   ],
   "source": [
    "SI(10000,5,8.7)"
   ]
  },
  {
   "cell_type": "code",
   "execution_count": null,
   "id": "04abb39f",
   "metadata": {},
   "outputs": [],
   "source": []
  }
 ],
 "metadata": {
  "kernelspec": {
   "display_name": "Python 3",
   "language": "python",
   "name": "python3"
  },
  "language_info": {
   "codemirror_mode": {
    "name": "ipython",
    "version": 3
   },
   "file_extension": ".py",
   "mimetype": "text/x-python",
   "name": "python",
   "nbconvert_exporter": "python",
   "pygments_lexer": "ipython3",
   "version": "3.8.8"
  }
 },
 "nbformat": 4,
 "nbformat_minor": 5
}
